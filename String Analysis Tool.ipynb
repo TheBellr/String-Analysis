{
 "cells": [
  {
   "cell_type": "markdown",
   "id": "c390f15c-1589-4e10-a6f1-2fb0161fc44e",
   "metadata": {},
   "source": [
    "# String Analysis Tool\n",
    "Create a program that analyzes a given string and provides the following information:\n",
    "\n",
    "Length of the string.\n",
    "Number of vowels and consonants.\n",
    "Number of digits and non-alphanumeric characters.\n",
    "Display the string in reverse."
   ]
  },
  {
   "cell_type": "code",
   "execution_count": null,
   "id": "a9479d7d-5439-4515-b037-173cbfd05f73",
   "metadata": {},
   "outputs": [],
   "source": [
    "program = str (input ('Type your sentence: '))\n",
    "result = program.upper ()\n",
    "\n",
    "print (\"  \")\n",
    "print ('Your input contains the following:')\n",
    "print (\"  \")\n",
    "print (str (len(program)) + ' characters.')\n",
    "\n",
    "vowel = 'AEIOU'\n",
    "count_a = result.count('A')\n",
    "count_e = result.count('E')\n",
    "count_i = result.count('I')\n",
    "count_o = result.count('O')\n",
    "count_u = result.count('U')\n",
    "count_total_v = count_a + count_e + count_i + count_o + count_u\n",
    "print (str (count_total_v) + ' vowels')\n",
    "\n",
    "consonant = list(filter(lambda char: char.isalpha() and char not in vowel, result))\n",
    "count_total_c = len (consonant)\n",
    "print (str (count_total_c) + ' consonants')\n",
    "\n",
    "total_alnum = count_total_c + count_total_v\n",
    "total_char = len(result)\n",
    "print (str (total_char - total_alnum) + ' non-alphanumeric characters')\n",
    "\n",
    "digit = list(filter(lambda char: char.isalnum() and char not in vowel and char not in consonant, result))\n",
    "print (str (len (digit)) + ' digits')\n",
    "\n",
    "print (\"  \")\n",
    "print ('Your input written backwards is: ' + program [ : :-1])"
   ]
  }
 ],
 "metadata": {
  "kernelspec": {
   "display_name": "Python 3 (ipykernel)",
   "language": "python",
   "name": "python3"
  },
  "language_info": {
   "codemirror_mode": {
    "name": "ipython",
    "version": 3
   },
   "file_extension": ".py",
   "mimetype": "text/x-python",
   "name": "python",
   "nbconvert_exporter": "python",
   "pygments_lexer": "ipython3",
   "version": "3.11.5"
  }
 },
 "nbformat": 4,
 "nbformat_minor": 5
}
